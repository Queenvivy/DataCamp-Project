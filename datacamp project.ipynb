{
 "cells": [
  {
   "cell_type": "code",
   "execution_count": null,
   "id": "251b39b7",
   "metadata": {},
   "outputs": [],
   "source": []
  },
  {
   "cell_type": "code",
   "execution_count": null,
   "id": "4af83452",
   "metadata": {},
   "outputs": [],
   "source": []
  },
  {
   "cell_type": "markdown",
   "id": "651f940a",
   "metadata": {},
   "source": [
    "#### **Importing modules and libraries**"
   ]
  },
  {
   "cell_type": "code",
   "execution_count": 7,
   "id": "6ffe80df",
   "metadata": {},
   "outputs": [],
   "source": [
    "#importing primary modules\n",
    "import pandas as pd\n",
    "import numpy as np\n",
    "\n",
    "#importing visualisation libraries\n",
    "import matplotlib.pyplot as plt\n",
    "import seaborn as sns\n",
    "\n",
    "#matplotlib for inline plot\n",
    "%matplotlib inline\n",
    "\n",
    "#import and setting warning\n",
    "import warnings\n",
    "warnings.filterwarnings('ignore')"
   ]
  },
  {
   "cell_type": "markdown",
   "id": "40f6dbeb",
   "metadata": {},
   "source": [
    "#### Loading the dataset"
   ]
  },
  {
   "cell_type": "code",
   "execution_count": 19,
   "id": "5ca9c8eb",
   "metadata": {},
   "outputs": [
    {
     "data": {
      "text/html": [
       "<div>\n",
       "<style scoped>\n",
       "    .dataframe tbody tr th:only-of-type {\n",
       "        vertical-align: middle;\n",
       "    }\n",
       "\n",
       "    .dataframe tbody tr th {\n",
       "        vertical-align: top;\n",
       "    }\n",
       "\n",
       "    .dataframe thead th {\n",
       "        text-align: right;\n",
       "    }\n",
       "</style>\n",
       "<table border=\"1\" class=\"dataframe\">\n",
       "  <thead>\n",
       "    <tr style=\"text-align: right;\">\n",
       "      <th></th>\n",
       "      <th>Unnamed: 0</th>\n",
       "      <th>track_id</th>\n",
       "      <th>artists</th>\n",
       "      <th>album_name</th>\n",
       "      <th>track_name</th>\n",
       "      <th>popularity</th>\n",
       "      <th>duration_ms</th>\n",
       "      <th>explicit</th>\n",
       "      <th>danceability</th>\n",
       "      <th>energy</th>\n",
       "      <th>key</th>\n",
       "      <th>loudness</th>\n",
       "      <th>mode</th>\n",
       "      <th>speechiness</th>\n",
       "      <th>acousticness</th>\n",
       "      <th>instrumentalness</th>\n",
       "      <th>liveness</th>\n",
       "      <th>valence</th>\n",
       "      <th>tempo</th>\n",
       "      <th>time_signature</th>\n",
       "      <th>track_genre</th>\n",
       "    </tr>\n",
       "  </thead>\n",
       "  <tbody>\n",
       "    <tr>\n",
       "      <th>0</th>\n",
       "      <td>0</td>\n",
       "      <td>5SuOikwiRyPMVoIQDJUgSV</td>\n",
       "      <td>Gen Hoshino</td>\n",
       "      <td>Comedy</td>\n",
       "      <td>Comedy</td>\n",
       "      <td>73</td>\n",
       "      <td>230666</td>\n",
       "      <td>False</td>\n",
       "      <td>0.676</td>\n",
       "      <td>0.4610</td>\n",
       "      <td>1</td>\n",
       "      <td>-6.746</td>\n",
       "      <td>0</td>\n",
       "      <td>0.1430</td>\n",
       "      <td>0.0322</td>\n",
       "      <td>0.000001</td>\n",
       "      <td>0.3580</td>\n",
       "      <td>0.715</td>\n",
       "      <td>87.917</td>\n",
       "      <td>4</td>\n",
       "      <td>acoustic</td>\n",
       "    </tr>\n",
       "    <tr>\n",
       "      <th>1</th>\n",
       "      <td>1</td>\n",
       "      <td>4qPNDBW1i3p13qLCt0Ki3A</td>\n",
       "      <td>Ben Woodward</td>\n",
       "      <td>Ghost (Acoustic)</td>\n",
       "      <td>Ghost - Acoustic</td>\n",
       "      <td>55</td>\n",
       "      <td>149610</td>\n",
       "      <td>False</td>\n",
       "      <td>0.420</td>\n",
       "      <td>0.1660</td>\n",
       "      <td>1</td>\n",
       "      <td>-17.235</td>\n",
       "      <td>1</td>\n",
       "      <td>0.0763</td>\n",
       "      <td>0.9240</td>\n",
       "      <td>0.000006</td>\n",
       "      <td>0.1010</td>\n",
       "      <td>0.267</td>\n",
       "      <td>77.489</td>\n",
       "      <td>4</td>\n",
       "      <td>acoustic</td>\n",
       "    </tr>\n",
       "    <tr>\n",
       "      <th>2</th>\n",
       "      <td>2</td>\n",
       "      <td>1iJBSr7s7jYXzM8EGcbK5b</td>\n",
       "      <td>Ingrid Michaelson;ZAYN</td>\n",
       "      <td>To Begin Again</td>\n",
       "      <td>To Begin Again</td>\n",
       "      <td>57</td>\n",
       "      <td>210826</td>\n",
       "      <td>False</td>\n",
       "      <td>0.438</td>\n",
       "      <td>0.3590</td>\n",
       "      <td>0</td>\n",
       "      <td>-9.734</td>\n",
       "      <td>1</td>\n",
       "      <td>0.0557</td>\n",
       "      <td>0.2100</td>\n",
       "      <td>0.000000</td>\n",
       "      <td>0.1170</td>\n",
       "      <td>0.120</td>\n",
       "      <td>76.332</td>\n",
       "      <td>4</td>\n",
       "      <td>acoustic</td>\n",
       "    </tr>\n",
       "    <tr>\n",
       "      <th>3</th>\n",
       "      <td>3</td>\n",
       "      <td>6lfxq3CG4xtTiEg7opyCyx</td>\n",
       "      <td>Kina Grannis</td>\n",
       "      <td>Crazy Rich Asians (Original Motion Picture Sou...</td>\n",
       "      <td>Can't Help Falling In Love</td>\n",
       "      <td>71</td>\n",
       "      <td>201933</td>\n",
       "      <td>False</td>\n",
       "      <td>0.266</td>\n",
       "      <td>0.0596</td>\n",
       "      <td>0</td>\n",
       "      <td>-18.515</td>\n",
       "      <td>1</td>\n",
       "      <td>0.0363</td>\n",
       "      <td>0.9050</td>\n",
       "      <td>0.000071</td>\n",
       "      <td>0.1320</td>\n",
       "      <td>0.143</td>\n",
       "      <td>181.740</td>\n",
       "      <td>3</td>\n",
       "      <td>acoustic</td>\n",
       "    </tr>\n",
       "    <tr>\n",
       "      <th>4</th>\n",
       "      <td>4</td>\n",
       "      <td>5vjLSffimiIP26QG5WcN2K</td>\n",
       "      <td>Chord Overstreet</td>\n",
       "      <td>Hold On</td>\n",
       "      <td>Hold On</td>\n",
       "      <td>82</td>\n",
       "      <td>198853</td>\n",
       "      <td>False</td>\n",
       "      <td>0.618</td>\n",
       "      <td>0.4430</td>\n",
       "      <td>2</td>\n",
       "      <td>-9.681</td>\n",
       "      <td>1</td>\n",
       "      <td>0.0526</td>\n",
       "      <td>0.4690</td>\n",
       "      <td>0.000000</td>\n",
       "      <td>0.0829</td>\n",
       "      <td>0.167</td>\n",
       "      <td>119.949</td>\n",
       "      <td>4</td>\n",
       "      <td>acoustic</td>\n",
       "    </tr>\n",
       "  </tbody>\n",
       "</table>\n",
       "</div>"
      ],
      "text/plain": [
       "   Unnamed: 0                track_id                 artists  \\\n",
       "0           0  5SuOikwiRyPMVoIQDJUgSV             Gen Hoshino   \n",
       "1           1  4qPNDBW1i3p13qLCt0Ki3A            Ben Woodward   \n",
       "2           2  1iJBSr7s7jYXzM8EGcbK5b  Ingrid Michaelson;ZAYN   \n",
       "3           3  6lfxq3CG4xtTiEg7opyCyx            Kina Grannis   \n",
       "4           4  5vjLSffimiIP26QG5WcN2K        Chord Overstreet   \n",
       "\n",
       "                                          album_name  \\\n",
       "0                                             Comedy   \n",
       "1                                   Ghost (Acoustic)   \n",
       "2                                     To Begin Again   \n",
       "3  Crazy Rich Asians (Original Motion Picture Sou...   \n",
       "4                                            Hold On   \n",
       "\n",
       "                   track_name  popularity  duration_ms  explicit  \\\n",
       "0                      Comedy          73       230666     False   \n",
       "1            Ghost - Acoustic          55       149610     False   \n",
       "2              To Begin Again          57       210826     False   \n",
       "3  Can't Help Falling In Love          71       201933     False   \n",
       "4                     Hold On          82       198853     False   \n",
       "\n",
       "   danceability  energy  key  loudness  mode  speechiness  acousticness  \\\n",
       "0         0.676  0.4610    1    -6.746     0       0.1430        0.0322   \n",
       "1         0.420  0.1660    1   -17.235     1       0.0763        0.9240   \n",
       "2         0.438  0.3590    0    -9.734     1       0.0557        0.2100   \n",
       "3         0.266  0.0596    0   -18.515     1       0.0363        0.9050   \n",
       "4         0.618  0.4430    2    -9.681     1       0.0526        0.4690   \n",
       "\n",
       "   instrumentalness  liveness  valence    tempo  time_signature track_genre  \n",
       "0          0.000001    0.3580    0.715   87.917               4    acoustic  \n",
       "1          0.000006    0.1010    0.267   77.489               4    acoustic  \n",
       "2          0.000000    0.1170    0.120   76.332               4    acoustic  \n",
       "3          0.000071    0.1320    0.143  181.740               3    acoustic  \n",
       "4          0.000000    0.0829    0.167  119.949               4    acoustic  "
      ]
     },
     "execution_count": 19,
     "metadata": {},
     "output_type": "execute_result"
    }
   ],
   "source": [
    "#load the dataset\n",
    "Spotify = pd.read_csv(r'C:\\Users\\DELL\\Desktop\\Spotify.csv')\n",
    "\n",
    "#set maximum viewable columns\n",
    "pd.set_option(\"display.max_column\", 30)\n",
    "\n",
    "#create a copy of the original dataset\n",
    "original_copy = Spotify.copy()\n",
    "\n",
    "#viewing the first five rows\n",
    "Spotify.head()"
   ]
  },
  {
   "cell_type": "code",
   "execution_count": null,
   "id": "1af4ed28",
   "metadata": {},
   "outputs": [],
   "source": []
  },
  {
   "cell_type": "markdown",
   "id": "5c49ce12",
   "metadata": {},
   "source": [
    "## **Column description**\n",
    "\n",
    "| Column     | Description              |\n",
    "|------------|--------------------------|\n",
    "| `track_id` | The Spotify ID number of the track. |\n",
    "| `artists` | Names of the artists who performed the track, separated by a `;` if there's more than one.|\n",
    "| `album_name` | The name of the album that includes the track.|\n",
    "| `track_name` | The name of the track.|\n",
    "| `popularity` | Numerical value ranges from `0` to `100`, with `100` being the highest popularity. This is calculated based on the number of times the track has been played recently, with more recent plays contributing more to the score. Duplicate tracks are scored independently.|\n",
    "| `duration_min` | The length of the track, measured in minutes.|\n",
    "| `explicit` | Indicates whether the track contains explicit lyrics. `true` means it does, `false` means it does not or it's unknown.|\n",
    "| `danceability` | A score ranges between `0.0` and `1.0` that represents the track's suitability for dancing. This is calculated by algorithm and is determined by factors like tempo, rhythm stability, beat strength, and regularity.|\n",
    "| `energy` | A score ranges between `0.0` and `1.0` indicating the track's intensity and activity level. Energetic tracks tend to be fast, loud, and noisy.|\n",
    "| `key` | The key the track is in. Integers map to pitches using standard Pitch class notation. E.g.`0 = C`, `1 = C♯/D♭`, `2 = D`, and so on. If no key was detected, the value is `-1`.| \n",
    "| `loudness` | The overall loudness, measured in decibels (dB).|\n",
    "| `mode` |  The modality of a track, represented as `1` for major and `0` for minor.| \n",
    "| `speechiness` | Measures the amount of spoken words in a track. A value close to `1.0` denotes speech-based content, while `0.33` to `0.66` indicates a mix of speech and music like rap. Values below `0.33` are usually music and non-speech tracks.| \n",
    "| `acousticness` | A confidence measure ranges from `0.0` to `1.0`, with `1.0` representing the highest confidence that the track is acoustic.|\n",
    "| `instrumentalness` | Instrumentalness estimates the likelihood of a track being instrumental. Non-lyrical sounds such as \"ooh\" and \"aah\" are considered instrumental, whereas rap or spoken word tracks are classified as \"vocal\". A value closer to `1.0` indicates a higher probability that the track lacks vocal content.|\n",
    "| `liveness` | A measure of the probability that the track was performed live. Scores above `0.8` indicate a high likelihood of the track being live.|\n",
    "| `valence` | A score from `0.0` to `1.0` representing the track's positiveness. High scores suggest a more positive or happier track.|\n",
    "| `tempo` | The track's estimated tempo, measured in beats per minute (BPM).|\n",
    "| `time_signature` | An estimate of the track's time signature (meter), which is a notational convention to specify how many beats are in each bar (or measure). The time signature ranges from `3` to `7` indicating time signatures of `3/4`, to `7/4`.|\n",
    "| `track_genre` |  The genre of the track.|\n"
   ]
  },
  {
   "cell_type": "code",
   "execution_count": null,
   "id": "4be71786",
   "metadata": {},
   "outputs": [],
   "source": [
    "#size of the dataset\n",
    "Spotify.shape"
   ]
  },
  {
   "cell_type": "markdown",
   "id": "22b07cb1",
   "metadata": {},
   "source": [
    "We have `114000` rows and `20` columns of music tracks in our dataset"
   ]
  },
  {
   "cell_type": "markdown",
   "id": "06035e6e",
   "metadata": {},
   "source": [
    "#### Checking info summary of the data"
   ]
  },
  {
   "cell_type": "code",
   "execution_count": null,
   "id": "09f61aa1",
   "metadata": {},
   "outputs": [],
   "source": [
    "Spotify.info()"
   ]
  },
  {
   "cell_type": "markdown",
   "id": "3af25ee7",
   "metadata": {},
   "source": [
    "Our dataset contains `20 columns and 11400 rows`. It also shows that there are some null values in the artists, album_name and track_name column. We will now proceed to cleaning the data."
   ]
  },
  {
   "cell_type": "markdown",
   "id": "b8fddcd3",
   "metadata": {},
   "source": [
    "#### **Handling missing values**"
   ]
  },
  {
   "cell_type": "code",
   "execution_count": null,
   "id": "c6162c76",
   "metadata": {},
   "outputs": [],
   "source": [
    "#Checking for null values\n",
    "Spotify.isnull().sum()"
   ]
  },
  {
   "cell_type": "markdown",
   "id": "62f52314",
   "metadata": {},
   "source": [
    "The result shows that the artists, album_name and track_name column have single null values. We'll look further into the null variable to understand the reason for the null data. "
   ]
  },
  {
   "cell_type": "code",
   "execution_count": null,
   "id": "403cf933",
   "metadata": {},
   "outputs": [],
   "source": [
    "#A look at the artists null values\n",
    "Spotify[Spotify.artists.isna()]"
   ]
  },
  {
   "cell_type": "markdown",
   "id": "96b2649e",
   "metadata": {},
   "source": [
    "It turns out that the 3 null values fall under a single row. After careful observation of other values in thesame row, there is no pointer to what the missing values could have been which indicates that it could be an entry error. \n",
    "\n",
    "Therefore, we will drop the null values were dropped from the dataset."
   ]
  },
  {
   "cell_type": "markdown",
   "id": "9750672c",
   "metadata": {},
   "source": [
    "#### drop null row"
   ]
  },
  {
   "cell_type": "code",
   "execution_count": null,
   "id": "cf487933",
   "metadata": {},
   "outputs": [],
   "source": [
    "#dropping null values\n",
    "Spotify.dropna(inplace=True)"
   ]
  },
  {
   "cell_type": "markdown",
   "id": "afa6d060",
   "metadata": {},
   "source": [
    "#### **Addressing duplicate values**"
   ]
  },
  {
   "cell_type": "code",
   "execution_count": null,
   "id": "53072554",
   "metadata": {},
   "outputs": [],
   "source": [
    "#view the total number of duplicate values\n",
    "Spotify.duplicated().sum()"
   ]
  },
  {
   "cell_type": "code",
   "execution_count": null,
   "id": "de21654a",
   "metadata": {},
   "outputs": [],
   "source": [
    "#Observing the duplicate rows further and keeping the first value\n",
    "duplicates = Spotify[Spotify.duplicated(keep='first')]\n",
    "\n",
    "duplicates"
   ]
  },
  {
   "cell_type": "markdown",
   "id": "bdd82eda",
   "metadata": {},
   "source": [
    "The above table displays all duplicate values by their `track_id`. The above output further shows that we have duplicate track ids on the `track_id` column"
   ]
  },
  {
   "cell_type": "markdown",
   "id": "59a4a348",
   "metadata": {},
   "source": [
    "#### drop duplicate values"
   ]
  },
  {
   "cell_type": "code",
   "execution_count": null,
   "id": "ed62abaa",
   "metadata": {},
   "outputs": [],
   "source": [
    "#dropping all duplicate values\n",
    "Spotify.drop_duplicates( inplace=True)\n",
    "\n",
    "#checking the new shape of the dataset\n",
    "print(Spotify.shape)"
   ]
  },
  {
   "cell_type": "markdown",
   "id": "0cbbc59b",
   "metadata": {},
   "source": [
    "After dropping duplicate values, we now have `113549 rows`."
   ]
  },
  {
   "cell_type": "markdown",
   "id": "c95b69ca",
   "metadata": {},
   "source": [
    "#### Checking unique values in the track_id\n",
    "we do this because the track id is unique to individual tracks. We can have track with similar artists and album name but not the same id.  "
   ]
  },
  {
   "cell_type": "code",
   "execution_count": null,
   "id": "ae4b38f4",
   "metadata": {},
   "outputs": [],
   "source": [
    "#unique values \n",
    "Spotify['track_id'].nunique()"
   ]
  },
  {
   "cell_type": "code",
   "execution_count": null,
   "id": "dd4482d0",
   "metadata": {},
   "outputs": [],
   "source": [
    "#checking for duplicates in the track_id\n",
    "duplicate_track_ids = Spotify[Spotify['track_id'].duplicated(keep = 'first')]\n",
    "\n",
    "#check the size of duplicate values\n",
    "print(duplicate_track_ids.shape)\n",
    "\n",
    "#checking counts of duplicate track_id\n",
    "duplicate_track_ids.groupby('track_id')['track_id'].count()"
   ]
  },
  {
   "cell_type": "markdown",
   "id": "f72e2448",
   "metadata": {},
   "source": [
    "There are only `89,740` unique track IDs, indicating that there are approximately `24,259` duplicate values present. To proceed with our analysis, it is necessary to eliminate these duplicate instances and clean the data."
   ]
  },
  {
   "cell_type": "markdown",
   "id": "7bb04409",
   "metadata": {},
   "source": [
    "#### drop duplicate track using their track_ids"
   ]
  },
  {
   "cell_type": "code",
   "execution_count": null,
   "id": "9f39670f",
   "metadata": {},
   "outputs": [],
   "source": [
    "#drop duplicate track_id\n",
    "Spotify = Spotify[Spotify['track_id'].duplicated(keep = 'first') == False]\n",
    "\n",
    "#check shape of new data\n",
    "Spotify.shape"
   ]
  },
  {
   "cell_type": "markdown",
   "id": "4faefbb7",
   "metadata": {},
   "source": [
    "After dropping all duplicate track_id, we now have a total of `89740 songs` in our data set."
   ]
  },
  {
   "cell_type": "markdown",
   "id": "5ba43ae3",
   "metadata": {},
   "source": [
    "### **Correcting inconsistencies**"
   ]
  },
  {
   "cell_type": "markdown",
   "id": "57505376",
   "metadata": {},
   "source": [
    "The song duration given here is in Milliseconds, we'll convert it to minutes and drop the `duration_ms`"
   ]
  },
  {
   "cell_type": "code",
   "execution_count": null,
   "id": "9aab8cea",
   "metadata": {},
   "outputs": [],
   "source": [
    "#convert time from milliseconds to minutes\n",
    "Spotify['duration_min'] = round(Spotify['duration_ms'] / 60000,1)\n",
    "\n",
    "#Drop duration_ms columns\n",
    "Spotify.drop('duration_ms', axis=1, inplace=True)"
   ]
  },
  {
   "cell_type": "code",
   "execution_count": null,
   "id": "00005501",
   "metadata": {},
   "outputs": [],
   "source": [
    "#confirming changes\n",
    "Spotify.head(2)"
   ]
  },
  {
   "cell_type": "markdown",
   "id": "d18c8e39",
   "metadata": {},
   "source": [
    "After dropping all duplicate values and scrutinizing the track_id, we now have `89740` rows left in our spotify music data frame."
   ]
  },
  {
   "cell_type": "markdown",
   "id": "1f63d7cc",
   "metadata": {},
   "source": [
    "## **STUDYING INDIVIDUAL VARIABLE SEPARATELY**"
   ]
  },
  {
   "cell_type": "markdown",
   "id": "11ece7ab",
   "metadata": {},
   "source": [
    "> 1. **Artists**"
   ]
  },
  {
   "cell_type": "code",
   "execution_count": null,
   "id": "6b8a7379",
   "metadata": {},
   "outputs": [],
   "source": [
    "Spotify['artists'].nunique()"
   ]
  },
  {
   "cell_type": "markdown",
   "id": "107a0cb5",
   "metadata": {},
   "source": [
    "#### Top 5 contributing Artists\n"
   ]
  },
  {
   "cell_type": "code",
   "execution_count": null,
   "id": "7cdb72b9",
   "metadata": {},
   "outputs": [],
   "source": [
    "#setting the plot size\n",
    "plt.figure(figsize = (10,5), dpi = 100)\n",
    "\n",
    "#plotting the chart\n",
    "sns.barplot( x = Spotify['artists'].value_counts()[0:5].values, y = Spotify['artists'].value_counts()[0:5].index, orient='h')\n",
    "\n",
    "#setting the plot title and axis labels\n",
    "plt.title('Top 5 Contributing Artists')\n",
    "plt.ylabel('No. of tracks')\n",
    "plt.xlabel('Artists name')\n",
    "\n",
    "#display the plot\n",
    "plt.show()"
   ]
  },
  {
   "cell_type": "markdown",
   "id": "e2e68961",
   "metadata": {},
   "source": [
    "We were able to find out the top 5 contributing artist and George Jones ranked the highest followed by my little airport and others followed suit"
   ]
  },
  {
   "cell_type": "markdown",
   "id": "141ff5a4",
   "metadata": {},
   "source": [
    "> 2. **Album Name**\n",
    "\n",
    "Most common album names "
   ]
  },
  {
   "cell_type": "code",
   "execution_count": null,
   "id": "706dc027",
   "metadata": {},
   "outputs": [],
   "source": [
    "#setting the plot size\n",
    "plt.figure(figsize = (8,5), dpi = 100)\n",
    "\n",
    "#plotting the chart\n",
    "sns.barplot(data=Spotify , y = Spotify['album_name'].value_counts()[0:5].index, x = Spotify['album_name'].value_counts()[0:5],orient=\"h\")\n",
    "\n",
    "#setting the plot title and axis labels\n",
    "plt.title('Top 5 Most common Album names')\n",
    "plt.ylabel('Album name')\n",
    "plt.xlabel('No. of times')\n",
    "\n",
    "#display the plot\n",
    "plt.show()\n"
   ]
  },
  {
   "cell_type": "markdown",
   "id": "6ec4e793",
   "metadata": {},
   "source": [
    "`The complete Hank Williams` appear over `100` times followed by `Greatest Hits` and the others. This could mean that songs from this to albums will populate the dataset. \n",
    "It could also mean that there are lot of songs with the same album name by different artists. We will take further look into this in the Bivariate analysis section."
   ]
  },
  {
   "cell_type": "markdown",
   "id": "963c4cc0",
   "metadata": {},
   "source": [
    "> 3. **Popularity**"
   ]
  },
  {
   "cell_type": "code",
   "execution_count": null,
   "id": "b5022ed8",
   "metadata": {},
   "outputs": [],
   "source": [
    "#Setting the plot size\n",
    "plt.figure(figsize = (8,5), dpi=100)\n",
    "\n",
    "#Plotting the popularity chart\n",
    "sns.histplot(Spotify['popularity'], kde=None, fill = True)\n",
    "\n",
    "#display the plot\n",
    "plt.show()"
   ]
  },
  {
   "cell_type": "markdown",
   "id": "aa914031",
   "metadata": {},
   "source": [
    "Our Spotify data encompasses a wide range of songs, and a higher proportion of it is filled with tracks that have popularity ratings spanning from `0 to 1`. The popularity is most concentrated between `20 and 60` where we have a significant number of tracks.\n",
    "\n",
    "While these tracks may not enjoy the same level of mainstream popularity, they present a rich and varied assortment for the audience in search of distinctive and less-familiar music. Whether it's hidden treasures or specialized genres, this collection appeals to a broad spectrum of music enthusiasts by curating a selection that extends beyond the most well-known chart-toppers. "
   ]
  },
  {
   "cell_type": "markdown",
   "id": "9e043e82",
   "metadata": {},
   "source": [
    "> 4. **Duration**\n",
    "\n"
   ]
  },
  {
   "cell_type": "code",
   "execution_count": null,
   "id": "42c5873c",
   "metadata": {},
   "outputs": [],
   "source": [
    "#plotting for time duration with tracks in minutes\n",
    "plt.figure(figsize = (10,3), dpi = 100)\n",
    "\n",
    "#define the plot\n",
    "sns.kdeplot(Spotify['duration_min'], fill = True)\n",
    "\n",
    "#set label values\n",
    "plt.xlabel('Track duration (minutes)')\n",
    "\n",
    "#display the plot\n",
    "plt.show() "
   ]
  },
  {
   "cell_type": "markdown",
   "id": "63e28814",
   "metadata": {},
   "source": [
    "The graph provides valuable insight into the length of the tracks, indicating a prominent trend within this specific time range. This data suggests that the duration of tracks in the given dataset tends to cluster around the 5-6 minute mark, which is an indication of a common preference or standard within the music industry.\n",
    "\n",
    "\n",
    "Based on the information presented in the graph, it can be concluded that the majority of tracks had a duration of approximately 5-6 minutes. The graph provides further insights that there are tracks with minutes above `5 minues up to 80 minutes`. \n",
    "\n",
    "This is an indication of outliers in the `duration_min` column. We further investigate the `duration_min` column and determine what happens to data."
   ]
  },
  {
   "cell_type": "markdown",
   "id": "6d49157f",
   "metadata": {},
   "source": [
    "#### Checking for outliers in the `duration_min` column.\n",
    "\n",
    "We will make use of the boxplot becuase it can be used to easily detect outliers."
   ]
  },
  {
   "cell_type": "code",
   "execution_count": null,
   "id": "c5206770",
   "metadata": {},
   "outputs": [],
   "source": [
    "#figuresize\n",
    "plt.figure(figsize=(15,8))\n",
    "\n",
    "#define the plot\n",
    "sns.boxplot(Spotify['duration_min'], orient='h')"
   ]
  },
  {
   "cell_type": "code",
   "execution_count": null,
   "id": "481eb21f",
   "metadata": {},
   "outputs": [],
   "source": [
    "Spotify.describe()"
   ]
  },
  {
   "cell_type": "markdown",
   "id": "cd521466",
   "metadata": {},
   "source": [
    "The plot and summary stats shows that duration below `2.9 up to 0.1 min` and values above `3.8 up to 87 min` are outliers in the data. We will now look at tracks that fall into this category. After manually checking some of the tracks in this category, it is obvious that the values are just variance in the dataset and not errors. We will ignore the outliers because they are real data and not errors."
   ]
  },
  {
   "cell_type": "markdown",
   "id": "541bfe29",
   "metadata": {},
   "source": [
    "5. **Explicit**"
   ]
  },
  {
   "cell_type": "code",
   "execution_count": null,
   "id": "edd77455",
   "metadata": {},
   "outputs": [],
   "source": [
    "#setting the figure size\n",
    "plt.figure(figsize = (4,4), dpi = 100)\n",
    "\n",
    "#defining the plot\n",
    "sns.barplot(x = Spotify['explicit'].value_counts().index, y = Spotify['explicit'].value_counts().values)\n",
    "\n",
    "#Setting the title and labels\n",
    "plt.xlabel('Contains profanity')\n",
    "plt.ylabel('No. of tracks')\n",
    "\n",
    "#display the plots\n",
    "plt.show()"
   ]
  },
  {
   "cell_type": "markdown",
   "id": "992aa444",
   "metadata": {},
   "source": [
    "Including songs with explicit content in a company party playlist can create a different impression about the party compared to a personal or casual party. Company parties are often meant to foster a professional and inclusive environment. Including songs with explicit content may be seen as unprofessional and inappropriate in this context. It's important to maintain a level of decorum and ensure that the music aligns with the company's values and the expectations of the attendees. From the graph we have realised that about 5,000 tracks contains explicit words...so  we will drop them. \n",
    "\n",
    "#### drop explicit rows"
   ]
  },
  {
   "cell_type": "code",
   "execution_count": null,
   "id": "e9161a0e",
   "metadata": {},
   "outputs": [],
   "source": [
    "#dropping all rows with explicit contents\n",
    "Spotify.drop(Spotify[Spotify['explicit'] == True].index, inplace=True)"
   ]
  },
  {
   "cell_type": "markdown",
   "id": "ecf5117f",
   "metadata": {},
   "source": [
    "6. **Danceability**"
   ]
  },
  {
   "cell_type": "code",
   "execution_count": null,
   "id": "e8eda0a0",
   "metadata": {},
   "outputs": [],
   "source": [
    "#set figure size\n",
    "plt.figure(figsize = (3,3), dpi = 100)\n",
    "\n",
    "#define the plot\n",
    "sns.kdeplot(Spotify['danceability'], fill = True)\n",
    "sns.lineplot(x = (0.5 for i in range(0,3)), y = range(0,3), color = 'Red')\n",
    "\n",
    "#set plot label\n",
    "plt.xlabel('Danceability')\n",
    "\n",
    "#display the plot\n",
    "plt.show()"
   ]
  },
  {
   "cell_type": "markdown",
   "id": "51c465c7",
   "metadata": {},
   "source": [
    "According to the displayed graph, it can be observed that songs generally exhibit an average level of danceability when their score falls within the range of 0.5 to 0.6. However, as the danceability score exceeds 0.6, the songs are characterized as highly danceable. This graph provides valuable information regarding the relationship between danceability scores and the perceived level of danceability in songs. It suggests that songs with higher danceability scores are more likely to be considered as highly danceable, while those with scores in the 0.5 to 0.6 range are deemed to have an average level of danceability.\n",
    "\n",
    "Since our primary aim is to get danceable songs for the summer party, we will drop the songs that fall below the average danceability.\n"
   ]
  },
  {
   "cell_type": "code",
   "execution_count": null,
   "id": "538a34fc",
   "metadata": {},
   "outputs": [],
   "source": []
  },
  {
   "cell_type": "markdown",
   "id": "ce7047e2",
   "metadata": {},
   "source": [
    "7. **Energy**\n",
    "\n"
   ]
  },
  {
   "cell_type": "code",
   "execution_count": null,
   "id": "06ca7449",
   "metadata": {},
   "outputs": [],
   "source": [
    "plt.figure(figsize = (3,3), dpi = 100)\n",
    "sns.kdeplot(Spotify['energy'], fill = True)\n",
    "sns.lineplot(x = (0.5 for i in range(0,3)), y = range(0,3), color = 'Red')\n",
    "plt.xlabel('Energy')\n",
    "plt.show()"
   ]
  },
  {
   "cell_type": "markdown",
   "id": "f2f6a1ff",
   "metadata": {},
   "source": [
    "According to the displayed graph, it can be observed that songs generally exhibit an average level of Energy when their score falls within the range of 0.5 upwards. However, as the energy score exceeds 0.6, the songs are characterized as highly Energetic. This graph provides valuable information regarding the relationship between Energetic scores and the perceived level of Energy in songs."
   ]
  },
  {
   "cell_type": "markdown",
   "id": "3fbb8bb2",
   "metadata": {},
   "source": [
    "8. **Key**\n",
    "\n"
   ]
  },
  {
   "cell_type": "code",
   "execution_count": null,
   "id": "0e16ad69",
   "metadata": {},
   "outputs": [],
   "source": [
    "#Creating a categorical mapping named key names\n",
    "Spotify['key_names'] = Spotify.key.replace({0: 'C', 1: \"C#/Db\",  2: 'D', 3: 'D#/Eb', 4: 'E',5:'F', 6: 'F#/Gb', 7: 'G',8: 'G#/Ab', 9: 'A',   10: 'A#/Bb', 11: 'B'})"
   ]
  },
  {
   "cell_type": "code",
   "execution_count": null,
   "id": "2902625b",
   "metadata": {},
   "outputs": [],
   "source": [
    "#plotting key variation\n",
    "plt.figure(figsize = (10,3), dpi = 100)\n",
    "sns.barplot(x = Spotify['key_names'].value_counts().index, y = Spotify['key'].value_counts().values)\n",
    "plt.xlabel('Key_names')\n",
    "plt.ylabel('No. of tracks')\n",
    "plt.show()"
   ]
  },
  {
   "cell_type": "markdown",
   "id": "ee9a7615",
   "metadata": {},
   "source": [
    "Upon analyzing the dataset, it becomes evident that the majority of songs are in the key of G, followed by the keys C and D. Conversely, the key D#/Eb appeared the least frequently in the dataset. This dataset provides valuable insights into the distribution of musical keys within the analyzed songs. The prevalence of songs in the key of G suggests its popularity among musicians, potentially due to its tonal qualities or ease of playability. Similarly, the occurrence of songs in the keys of C and D highlights their significance in the musical landscape. On the other hand, the infrequent appearance of the key D#/Eb indicates its lower prevalence compared to the other keys in the dataset."
   ]
  },
  {
   "cell_type": "code",
   "execution_count": null,
   "id": "29acacce",
   "metadata": {},
   "outputs": [],
   "source": []
  },
  {
   "cell_type": "markdown",
   "id": "b05aadf4",
   "metadata": {},
   "source": [
    "9. **Loudness**\n",
    "\n"
   ]
  },
  {
   "cell_type": "code",
   "execution_count": null,
   "id": "fd93be95",
   "metadata": {},
   "outputs": [],
   "source": [
    "#plotting loudness value\n",
    "plt.figure(figsize = (3,3), dpi = 100)\n",
    "\n",
    "#plot definition\n",
    "sns.kdeplot(Spotify['loudness'], fill = True)\n",
    "plt.xlabel('Loudness')\n",
    "\n",
    "#display plot\n",
    "plt.show()"
   ]
  },
  {
   "cell_type": "markdown",
   "id": "91f22b3e",
   "metadata": {},
   "source": [
    "A KDE plot of the \"loudness\" column with a higher concentration of values between -20 and 0 suggests that a significant proportion of the songs in the dataset have a moderate to high loudness level. This likely indicates that a substantial portion of the songs are relatively loud or have a strong auditory presence.\n",
    "\n",
    "In summary, the KDE plot of the \"loudness\" column with values concentrated between -20 and 0 highlights the prevalence of moderately loud songs in the dataset, offering valuable information for music analysis and genre classification."
   ]
  },
  {
   "cell_type": "markdown",
   "id": "32919f6d",
   "metadata": {},
   "source": [
    "10. **Mode**\n",
    "\n",
    "#### converting the Mode from figures to major/minor\n",
    "\n"
   ]
  },
  {
   "cell_type": "code",
   "execution_count": null,
   "id": "cead3fab",
   "metadata": {},
   "outputs": [],
   "source": [
    "mode_key = {'1':'major', '0':'minor' }\n",
    "\n",
    "#convert type\n",
    "Spotify['mode'] = Spotify['mode'].astype(str) "
   ]
  },
  {
   "cell_type": "code",
   "execution_count": null,
   "id": "281f3ec4",
   "metadata": {},
   "outputs": [],
   "source": [
    "Spotify['mode'] = Spotify['mode'].replace({'1':'major', '0':'minor' })"
   ]
  },
  {
   "cell_type": "markdown",
   "id": "660a6332",
   "metadata": {},
   "source": [
    "Within the dataset, there are several songs that are composed in the major mode. These songs exhibit a distinct tonal quality and convey a sense of brightness and positivity. The major mode is characterized by a specific pattern of intervals that create a harmonically pleasing and uplifting sound. By identifying the songs in the major mode, we can gain insights into the prevalence and popularity of this musical structure within the dataset. Furthermore, the presence of songs in the major mode suggests that musicians often utilize this mode to evoke emotions such as joy, optimism, and triumph in their compositions."
   ]
  },
  {
   "cell_type": "code",
   "execution_count": null,
   "id": "df675ba3",
   "metadata": {
    "scrolled": true
   },
   "outputs": [],
   "source": [
    "minor = Spotify[Spotify['mode'] =='minor']\n",
    "minor"
   ]
  },
  {
   "cell_type": "markdown",
   "id": "b4a7c6c1",
   "metadata": {},
   "source": [
    "Within the dataset, there are several songs that are composed in the minor mode. These songs possess a distinct tonal quality that evokes a sense of melancholy, introspection, or even darkness. The minor mode is characterized by a specific pattern of intervals that create a somber and emotional atmosphere. By identifying the songs in the minor mode, we can gain insights into the prevalence and popularity of this musical structure within the dataset. Furthermore, the presence of songs in the minor mode suggests that musicians often utilize this mode to convey feelings of sadness, longing, or introspection in their compositions. The minor mode offers a rich and diverse range of emotions, allowing artists to explore and express a wide array of moods and sentiments in their music."
   ]
  },
  {
   "cell_type": "code",
   "execution_count": null,
   "id": "fb83d4db",
   "metadata": {},
   "outputs": [],
   "source": [
    "plt.figure(figsize = (4,4), dpi = 100)\n",
    "sns.barplot(x = Spotify['mode'].value_counts().index, y = Spotify['mode'].value_counts().values)\n",
    "plt.xlabel('Scale (1 = Major, 0 = Minor)')\n",
    "plt.ylabel('No. of tracks')\n",
    "plt.show()\n"
   ]
  },
  {
   "cell_type": "markdown",
   "id": "7715711d",
   "metadata": {},
   "source": [
    "According to the chart, it can be observed that a significant number of songs, over 50,000, are composed in the major mode, while approximately 29,000 songs are in the minor mode. This indicates that a majority of the songs in the dataset convey a sense of positivity and evoke uplifting emotions. The prevalence of songs in the major mode suggests that musicians often utilize this mode to create a cheerful and optimistic atmosphere in their compositions. However, it is worth noting that there is still a substantial number of songs in the minor mode, which signifies that artists also recognize the power of evoking deeper emotions and introspection through their music. Overall, the dataset showcases a diverse range of musical expressions, with a significant focus on positivity and soul-lifting themes."
   ]
  },
  {
   "cell_type": "markdown",
   "id": "b336bfe7",
   "metadata": {},
   "source": [
    "11. **Speechiness**\n",
    "\n"
   ]
  },
  {
   "cell_type": "code",
   "execution_count": null,
   "id": "add03d1e",
   "metadata": {},
   "outputs": [],
   "source": [
    "plt.figure(figsize = (10,3), dpi = 100)\n",
    "sns.kdeplot(Spotify['speechiness'], fill = True)\n",
    "plt.xlabel('speechiness')\n",
    "plt.show()"
   ]
  },
  {
   "cell_type": "markdown",
   "id": "23860f71",
   "metadata": {},
   "source": [
    "The vast majority of songs in the Spotify library have a speechiness rating below 0.33, indicating that they contain minimal vocals. This suggests that a significant portion of the tracks available on Spotify are instrumental or have limited vocal content. Whether you prefer instrumental music or are seeking a background soundtrack without distracting lyrics, you'll find a wide selection of songs with minimal speechiness in the Spotify library."
   ]
  },
  {
   "cell_type": "code",
   "execution_count": null,
   "id": "422f0b25",
   "metadata": {},
   "outputs": [],
   "source": []
  },
  {
   "cell_type": "markdown",
   "id": "5d99e45e",
   "metadata": {},
   "source": [
    "12. **Acousticness**"
   ]
  },
  {
   "cell_type": "code",
   "execution_count": null,
   "id": "e20ad16c",
   "metadata": {},
   "outputs": [],
   "source": [
    "plt.figure(figsize = (3,3), dpi = 100)\n",
    "sns.kdeplot(Spotify['acousticness'], fill = True)\n",
    "plt.xlabel('acousticness')\n",
    "plt.show()"
   ]
  },
  {
   "cell_type": "markdown",
   "id": "4bea4ab3",
   "metadata": {},
   "source": [
    "The majority of tracks available in the library undergo electronic amplification and digital processing. This indicates that a large portion of the music in the library has been enhanced and modified using electronic means. Whether it's through the use of synthesizers, digital effects, or other electronic techniques, these tracks have been shaped and transformed using technology. This prevalence of electronically processed music in the library offers a wide range of sonically diverse and innovative options for listeners"
   ]
  },
  {
   "cell_type": "code",
   "execution_count": null,
   "id": "9ad0029a",
   "metadata": {},
   "outputs": [],
   "source": []
  },
  {
   "cell_type": "markdown",
   "id": "93ad51ce",
   "metadata": {},
   "source": [
    "13. **Instrumentalness**"
   ]
  },
  {
   "cell_type": "code",
   "execution_count": null,
   "id": "53fe9bbe",
   "metadata": {},
   "outputs": [],
   "source": [
    "plt.figure(figsize = (3,3), dpi = 100)\n",
    "sns.kdeplot(Spotify['instrumentalness'], fill = True)\n",
    "plt.xlabel('Instrumentalness')\n",
    "plt.show()"
   ]
  },
  {
   "cell_type": "markdown",
   "id": "53272fa6",
   "metadata": {},
   "source": [
    " The graph reveals that a significant portion of the songs in the dataset have a value of 0.0 for instrumentalness. This suggests that the majority of these songs contain vocals in their composition. The prevalence of songs with instrumentalness value of 0.0 indicates that vocals play a prominent role in the dataset, highlighting that the songs are primarily driven by vocal performances and lyrics. It implies that most of the songs in the dataset are not purely instrumental, but rather feature vocals as a key component of their musical arrangement."
   ]
  },
  {
   "cell_type": "markdown",
   "id": "5866bf88",
   "metadata": {},
   "source": [
    "14. **Liveness**\n"
   ]
  },
  {
   "cell_type": "code",
   "execution_count": null,
   "id": "71985036",
   "metadata": {},
   "outputs": [],
   "source": [
    "plt.figure(figsize = (3,3), dpi = 100)\n",
    "sns.kdeplot(Spotify['liveness'], fill = True)\n",
    "plt.xlabel('liveness')\n",
    "plt.show()"
   ]
  },
  {
   "cell_type": "markdown",
   "id": "448bc794",
   "metadata": {},
   "source": [
    "The data indicates that a majority of the songs in the dataset have a low liveness value. This suggests that most of these songs are not performed live and are more likely to be studio recordings. The prevalence of songs with low liveness values implies that the dataset consists primarily of tracks that lack the characteristic ambiance, audience interaction, or live performance energy associated with live recordings. It suggests that the majority of the songs in the dataset are not intended to be experienced as live performances but rather as studio-produced tracks."
   ]
  },
  {
   "cell_type": "markdown",
   "id": "93a8f635",
   "metadata": {},
   "source": [
    "15. **Valence**"
   ]
  },
  {
   "cell_type": "code",
   "execution_count": null,
   "id": "6ddd2dcd",
   "metadata": {},
   "outputs": [],
   "source": [
    "plt.figure(figsize = (3,3), dpi = 100)\n",
    "sns.histplot(Spotify['valence'], bins =25)\n",
    "plt.xlabel('Valence')\n",
    "plt.show()"
   ]
  },
  {
   "cell_type": "code",
   "execution_count": null,
   "id": "5fed4215",
   "metadata": {},
   "outputs": [],
   "source": []
  },
  {
   "cell_type": "markdown",
   "id": "ea276aa5",
   "metadata": {},
   "source": [
    "16. **Tempo**"
   ]
  },
  {
   "cell_type": "code",
   "execution_count": null,
   "id": "d2d8fc34",
   "metadata": {},
   "outputs": [],
   "source": [
    "plt.figure(figsize = (3,3), dpi = 100)\n",
    "sns.kdeplot(Spotify['tempo'], fill = True)\n",
    "plt.xlabel('tempo')\n",
    "plt.show()"
   ]
  },
  {
   "cell_type": "markdown",
   "id": "bc2aaf16",
   "metadata": {},
   "source": [
    "The majority of the songs in the dataset have a tempo that falls within the range of approximately 90 to 150. This indicates that most of these songs have a moderate to moderately fast pace. The prevalence of songs within this tempo range suggests that it is a commonly preferred tempo for the analyzed dataset. It implies that the songs in this range are likely to have a similar energetic feel and rhythmic characteristics, contributing to a cohesive musical experience."
   ]
  },
  {
   "cell_type": "markdown",
   "id": "8332095e",
   "metadata": {},
   "source": [
    "17. **Time Signature**\n",
    "\n",
    "\n"
   ]
  },
  {
   "cell_type": "code",
   "execution_count": null,
   "id": "b59307da",
   "metadata": {},
   "outputs": [],
   "source": [
    "plt.figure(figsize = (5,4), dpi = 100)\n",
    "sns.barplot(x = Spotify['time_signature'].value_counts().index, y = Spotify['time_signature'].value_counts().values)\n",
    "plt.xlabel('Beats per Bar/Measure')\n",
    "plt.ylabel('No. of Tracks')\n",
    "plt.show()"
   ]
  },
  {
   "cell_type": "markdown",
   "id": "e068aa2d",
   "metadata": {},
   "source": [
    "The majority of the songs in the dataset are written in a 4/4 time signature. This means that these songs have four beats per measure, with a quarter note receiving one beat. The prevalence of songs with this time signature suggests that it is a commonly used and familiar rhythmic structure within the analyzed dataset. The consistent use of 4/4 time signature contributes to a cohesive and easily recognizable rhythmic framework for these songs."
   ]
  },
  {
   "cell_type": "markdown",
   "id": "7949b53c",
   "metadata": {},
   "source": [
    "18. **Track Genre**"
   ]
  },
  {
   "cell_type": "code",
   "execution_count": null,
   "id": "523c109b",
   "metadata": {},
   "outputs": [],
   "source": [
    "#setting plot size\n",
    "plt.figure(figsize = (10,3), dpi = 100)\n",
    "\n",
    "#Define the plot\n",
    "sns.barplot(x = Spotify['track_genre'].value_counts()[0:20].index, y = Spotify['track_genre'].value_counts()[0:20].values)\n",
    "\n",
    "#set title and label\n",
    "plt.xlabel('Genre')\n",
    "plt.ylabel('No. of Tracks')\n",
    "plt.xticks(rotation = 90)\n",
    "plt.title('Top 20 Genres')\n",
    "\n",
    "#display the plot\n",
    "plt.show()"
   ]
  },
  {
   "cell_type": "code",
   "execution_count": null,
   "id": "9b2300dc",
   "metadata": {},
   "outputs": [],
   "source": []
  },
  {
   "cell_type": "markdown",
   "id": "0ae2f6fd",
   "metadata": {},
   "source": [
    "# **Analysis of two Variables & Multivariate Analysis**"
   ]
  },
  {
   "cell_type": "markdown",
   "id": "156d9bda",
   "metadata": {},
   "source": [
    "#### understanding the correlation between variables"
   ]
  },
  {
   "cell_type": "code",
   "execution_count": null,
   "id": "c589cb1b",
   "metadata": {},
   "outputs": [],
   "source": [
    "#plot size\n",
    "plt.figure(figsize=(20,8))\n",
    "\n",
    "# setting the plot\n",
    "sns.heatmap(Spotify.drop(columns='explicit', axis=1).corr(), vmax=1, vmin=-1, center=0,\n",
    "            linewidth=.5,square=True, annot = True,\n",
    "           fmt='.1f', cmap='BrBG_r',  \n",
    "            cbar_kws = dict(use_gridspec=False,location=\"top\", shrink=0.9)) \n",
    "\n",
    "\n",
    "#set plot title\n",
    "plt.title('Correlation plot')\n",
    "\n",
    "#display the plot\n",
    "plt.show()"
   ]
  },
  {
   "cell_type": "markdown",
   "id": "187fb7d1",
   "metadata": {},
   "source": [
    "There is a **strong positive correlation** between `energy and loudness` and a **strong negative correlation** between `energy and acousticness` with `valence and danceability` having a **moderate positive correlation**. On the other hand, `loudness and acousticness` have a **moderate negative correlation** and other columns maintaining minimal correlation."
   ]
  },
  {
   "cell_type": "markdown",
   "id": "96f2fcd9",
   "metadata": {},
   "source": [
    " **Energy VS Loudness**"
   ]
  },
  {
   "cell_type": "code",
   "execution_count": null,
   "id": "43cc8f80",
   "metadata": {},
   "outputs": [],
   "source": [
    "#set plot size\n",
    "plt.figure(figsize=(15,8))\n",
    "\n",
    "#define plot\n",
    "plt.scatter(x=Spotify['energy'], y=Spotify['loudness'])\n",
    "\n",
    "#set labels\n",
    "plt.title('Relationship between energy and loudness')\n",
    "plt.xlabel('Energy')\n",
    "plt.ylabel('Loudness')\n",
    "\n",
    "#display the plot\n",
    "plt.show()"
   ]
  },
  {
   "cell_type": "markdown",
   "id": "1fca6e13",
   "metadata": {},
   "source": [
    "1. **Track_name vs Danceability**"
   ]
  },
  {
   "cell_type": "code",
   "execution_count": null,
   "id": "e0570a91",
   "metadata": {},
   "outputs": [],
   "source": [
    "Spotify.query('track_name == \"Bitches\"') \n",
    "\n",
    "#Track has explicit value of False despite having an explicit track_name and content"
   ]
  },
  {
   "cell_type": "code",
   "execution_count": null,
   "id": "248c5a2c",
   "metadata": {},
   "outputs": [],
   "source": [
    "grouped = Spotify.groupby('track_name')['danceability'].mean()\n",
    "\n",
    "#set plot size\n",
    "plt.figure(figsize = (10,5), dpi = 100)\n",
    "\n",
    "#define the plot\n",
    "sns.barplot(y= grouped.sort_values(ascending = False)[0:10].index, x = grouped.sort_values(ascending = False)[0:10].values)\n",
    "\n",
    "#setting plot labels\n",
    "plt.xlabel('Trac ')\n",
    "plt.ylabel('Danceability')\n",
    "# plt.xticks(rotation = 90)\n",
    "plt.title('Top 10 Most Danceable Songs')\n",
    "\n",
    "#display plot\n",
    "plt.show()"
   ]
  },
  {
   "cell_type": "markdown",
   "id": "81fce63e",
   "metadata": {},
   "source": [
    " By leveraging the track name and danceability attributes, we successfully curated a selection of the dataset's top 10 danceable songs. Through this process, we were able to identify and sort out the tracks that exhibited the highest levels of danceability, allowing us to present a refined and captivating collection of music for dance enthusiasts."
   ]
  },
  {
   "cell_type": "markdown",
   "id": "d9126188",
   "metadata": {},
   "source": [
    "2. **Track Name VS Popularity**"
   ]
  },
  {
   "cell_type": "code",
   "execution_count": null,
   "id": "5295c980",
   "metadata": {},
   "outputs": [],
   "source": [
    "grouped = Spotify.groupby('track_name')['popularity'].mean()\n",
    "\n",
    "plt.figure(figsize = (10,3), dpi = 100)\n",
    "sns.barplot(x = grouped.sort_values(ascending = False)[0:10].index, y = grouped.sort_values(ascending = False)[0:10].values)\n",
    "plt.xlabel('Tracks')\n",
    "plt.ylabel('Popularity')\n",
    "plt.xticks(rotation = 90)\n",
    "plt.title('Top 10 Most popular Tracks')\n",
    "plt.show()"
   ]
  },
  {
   "cell_type": "markdown",
   "id": "2c3ed2bb",
   "metadata": {},
   "source": [
    "By utilizing the track name and popularity metrics, we were able to effectively categorize and identify the top 10 popular songs within the dataset. Through this analysis, we were able to sort the songs based on their level of popularity, allowing us to present a curated list of the most widely recognized and well-received tracks. This approach provides valuable insights into the preferences and trends of music listeners, enabling us to highlight the songs that have garnered significant attention and acclaim."
   ]
  },
  {
   "cell_type": "markdown",
   "id": "ba98e05a",
   "metadata": {},
   "source": [
    "3. **Track Name VS Energy**"
   ]
  },
  {
   "cell_type": "code",
   "execution_count": null,
   "id": "db916c7e",
   "metadata": {},
   "outputs": [],
   "source": [
    "grouped.sort_values(ascending = False)[0:30]"
   ]
  },
  {
   "cell_type": "code",
   "execution_count": null,
   "id": "8ab290d9",
   "metadata": {},
   "outputs": [],
   "source": [
    "grouped = Spotify.groupby('track_name')['energy'].mean()\n",
    "\n",
    "plt.figure(figsize = (10,3), dpi = 100)\n",
    "sns.barplot(x = grouped.sort_values(ascending = False)[0:10].index, y = grouped.sort_values(ascending = False)[0:10].values)\n",
    "plt.xlabel('Tracks')\n",
    "plt.ylabel('Energy')\n",
    "plt.xticks(rotation = 90)\n",
    "plt.title('Top 10 Most Energetic Tracks')\n",
    "plt.show()"
   ]
  },
  {
   "cell_type": "markdown",
   "id": "5c72fe37",
   "metadata": {},
   "source": [
    "By employing the track name and energy attributes, we successfully organized the dataset to identify the top 10 energetic songs. This process involved analyzing the energy levels of each track and sorting them accordingly, allowing us to present a curated selection of high-energy songs. By focusing on the energy aspect, we were able to highlight the tracks that exude vibrancy, excitement, and a dynamic musical experience. This compilation provides an electrifying playlist for those seeking a boost of energy and enthusiasm in their music."
   ]
  },
  {
   "cell_type": "code",
   "execution_count": null,
   "id": "ed22b21e",
   "metadata": {},
   "outputs": [],
   "source": [
    "# len(grouped)\n",
    "# grouped['tempo'].sort_values(ascending=False).plot(kind='bar')"
   ]
  },
  {
   "cell_type": "markdown",
   "id": "1de7a163",
   "metadata": {},
   "source": [
    "4. **Track_Name VS Tempo**"
   ]
  },
  {
   "cell_type": "code",
   "execution_count": null,
   "id": "37f5c0e6",
   "metadata": {},
   "outputs": [],
   "source": [
    "groupTempo = Spotify[(Spotify['tempo'] ) & (Spotify['tempo'])]\n",
    "grouped = groupTempo.groupby('track_name')['tempo'].mean()\n",
    "plt.figure(figsize = (10,3), dpi = 100)\n",
    "sns.barplot(  x = grouped.sort_values( ascending = False)[0:10].index, y = grouped.sort_values( ascending = False)[0:10].values)\n",
    "plt.xlabel('Tracks')\n",
    "plt.ylabel('Tempo')\n",
    "plt.xticks(rotation = 90)\n",
    "plt.title('Top 10 Tracks with Danceable Tempo')\n",
    "plt.show()"
   ]
  },
  {
   "cell_type": "markdown",
   "id": "79694bf0",
   "metadata": {},
   "source": [
    "We selected the top 10 tracks that fall within the danceable tempo range of 120 to 140 beats per minute (BPM). This tempo range is known to be conducive to dancing, providing a lively and energetic rhythm. By focusing on tracks within this range, we ensured that the chosen songs would have a tempo that aligns with the desired danceability criteria."
   ]
  },
  {
   "cell_type": "markdown",
   "id": "124c9091",
   "metadata": {},
   "source": [
    "5. **Track_Name VS Valence**"
   ]
  },
  {
   "cell_type": "code",
   "execution_count": null,
   "id": "685611e6",
   "metadata": {},
   "outputs": [],
   "source": [
    "grouped = Spotify.groupby('track_name')['valence'].mean()\n",
    "\n",
    "plt.figure(figsize = (10,3), dpi = 100)\n",
    "sns.barplot(x = grouped.sort_values(ascending = False)[0:10].index, y = grouped.sort_values(ascending = False)[0:10].values)\n",
    "plt.xlabel('Tracks')\n",
    "plt.ylabel('valence')\n",
    "plt.xticks(rotation = 90)\n",
    "plt.title('Top 10 Tracks with positive valence')\n",
    "plt.show()"
   ]
  },
  {
   "cell_type": "markdown",
   "id": "5486454b",
   "metadata": {},
   "source": [
    "Songs with a positive valence have the power to uplift the mood and create an atmosphere that is lively and happy. These songs emit a sense of positivity and joy, infusing the room with an uplifting energy. With their upbeat melodies, catchy rhythms, and optimistic lyrics, songs with positive valence can bring a smile to people's faces and encourage them to dance, sing along, or simply enjoy the moment. Whether it's a social gathering, a party, or even a personal listening experience, these songs have the ability to enhance the overall mood and create a vibrant and cheerful ambiance."
   ]
  },
  {
   "cell_type": "markdown",
   "id": "74d9fdea",
   "metadata": {},
   "source": [
    "6. **Popularity VS Genre**"
   ]
  },
  {
   "cell_type": "code",
   "execution_count": null,
   "id": "14a9820e",
   "metadata": {},
   "outputs": [],
   "source": [
    "grouped = Spotify.groupby('track_genre')['popularity'].mean()\n",
    "\n",
    "plt.figure(figsize=(10, 3), dpi=100)\n",
    "sns.barplot(x=grouped.sort_values(ascending=False)[0:10].index, y=grouped.sort_values(ascending=False)[0:10].values)\n",
    "plt.xlabel('Genres')\n",
    "plt.ylabel('Count')\n",
    "plt.xticks(rotation=90)\n",
    "plt.title('Top 10 Most popular Genres')\n",
    "plt.show()"
   ]
  },
  {
   "cell_type": "markdown",
   "id": "96ac51c9",
   "metadata": {},
   "source": [
    "The following analysis reveals the top 10 most popular genres found within the dataset. By examining the data, we have identified the genres that occur most frequently across the tracks. This information provides valuable insights into the musical preferences and trends represented in the dataset. By understanding the most popular genres, we can gain a better understanding of the overall musical landscape and the genres that resonate the most with listeners. These top 10 genres represent the ones that have the highest occurrence rate, showcasing their popularity and prominence within the dataset."
   ]
  },
  {
   "cell_type": "markdown",
   "id": "7e22f865",
   "metadata": {},
   "source": [
    "7. **Danceability VS Genre**"
   ]
  },
  {
   "cell_type": "code",
   "execution_count": null,
   "id": "e53d90aa",
   "metadata": {},
   "outputs": [],
   "source": [
    "genre_spotify = Spotify.groupby('track_genre')['danceability'].mean()\n",
    "\n",
    "plt.figure(figsize = (12,5), dpi = 100)\n",
    "sns.barplot(x = genre_spotify.sort_values(ascending = False)[0:10].index,\n",
    "            y = genre_spotify.sort_values(ascending = False)[0:10].values)\n",
    "plt.xlabel('Genre')\n",
    "plt.ylabel('Avg Danceability')\n",
    "plt.title('Top 10 Danceable Genre')\n",
    "\n",
    "plt.show()"
   ]
  },
  {
   "cell_type": "markdown",
   "id": "9231e038",
   "metadata": {},
   "source": [
    "After analyzing the dataset, we have identified the top 10 most danceable genres. These genres stand out for their high danceability scores, indicating their suitability for getting people on their feet and moving to the rhythm. By considering factors such as tempo, rhythm, and beat, the danceability metric provides insights into the genres that are most likely to inspire and encourage dancing. These top 10 genres represent the ones with the highest danceability ratings within the dataset, showcasing their ability to create an energetic and lively atmosphere that is perfect for dancing and enjoying the music."
   ]
  },
  {
   "cell_type": "code",
   "execution_count": null,
   "id": "5ea77985",
   "metadata": {},
   "outputs": [],
   "source": [
    "Spotify.sort_values(by = 'popularity', ascending = False)[['track_name', 'artists', 'danceability','popularity','track_genre','valence','tempo','energy']].head(50)"
   ]
  },
  {
   "cell_type": "markdown",
   "id": "c272dab0",
   "metadata": {},
   "source": [
    "# **Data Preprocessing**"
   ]
  },
  {
   "cell_type": "markdown",
   "id": "135137ce",
   "metadata": {},
   "source": [
    "Create a copy of the dataframe"
   ]
  },
  {
   "cell_type": "code",
   "execution_count": null,
   "id": "9cdbf9ca",
   "metadata": {},
   "outputs": [],
   "source": [
    "spotify_copy = Spotify.copy()\n",
    "\n",
    "spotify_copy.head(2)"
   ]
  },
  {
   "cell_type": "markdown",
   "id": "5b3d3e04",
   "metadata": {},
   "source": [
    "#### Checking and removing outliers in the data using boxplot"
   ]
  },
  {
   "cell_type": "code",
   "execution_count": null,
   "id": "ce03f52c",
   "metadata": {},
   "outputs": [],
   "source": [
    "plt.figure(figsize=(15,10))\n",
    "sns.boxplot(spotify_copy, orient='h')"
   ]
  },
  {
   "cell_type": "markdown",
   "id": "ee637e66",
   "metadata": {},
   "source": [
    "The margin of outliers vary per column in the dataset. Each column will be investigated and the outliers removed. The `popularity and tempo` column will be ignored because it is a secondary feature that determines if a track is danceable."
   ]
  },
  {
   "cell_type": "markdown",
   "id": "dd337448",
   "metadata": {},
   "source": [
    "## Removing Outlier using Loudness\n",
    "Using the Boxplot IQR, values above the 25th Quartile and below the 75th Quartile"
   ]
  },
  {
   "cell_type": "code",
   "execution_count": null,
   "id": "7bb9ac2e",
   "metadata": {},
   "outputs": [],
   "source": [
    "spotify_copy.loudness.describe()"
   ]
  },
  {
   "cell_type": "code",
   "execution_count": null,
   "id": "ed575dbc",
   "metadata": {},
   "outputs": [],
   "source": [
    "spotify_copy = spotify_copy[(spotify_copy.loudness >= -10.56) & (spotify_copy.loudness <= -5.17)]"
   ]
  },
  {
   "cell_type": "code",
   "execution_count": null,
   "id": "051c3109",
   "metadata": {},
   "outputs": [],
   "source": [
    "spotify_copy.head(2)"
   ]
  },
  {
   "cell_type": "code",
   "execution_count": null,
   "id": "642f9177",
   "metadata": {},
   "outputs": [],
   "source": [
    "spotify_copy.shape"
   ]
  },
  {
   "cell_type": "markdown",
   "id": "c754eee1",
   "metadata": {},
   "source": [
    "## Removing Outlier using Duration"
   ]
  },
  {
   "cell_type": "code",
   "execution_count": null,
   "id": "5b4bbc2c",
   "metadata": {},
   "outputs": [],
   "source": [
    "spotify_copy.duration_min.describe()"
   ]
  },
  {
   "cell_type": "markdown",
   "id": "4a002328",
   "metadata": {},
   "source": [
    "Since its  a company party with, events will be scheduled. And assuming that the playlist will be in place of the DJ, It will be inadmissible to involve tracks with longer minutes. \n",
    "\n",
    "Overtime, tracks with shorter time frame tend to keep the mood lively as it transitions between a genre to another. We will be selecting the tracks based on  the value of the `25% and 75%` as minimum and maximum outlier values respectively."
   ]
  },
  {
   "cell_type": "code",
   "execution_count": null,
   "id": "933fb837",
   "metadata": {},
   "outputs": [],
   "source": [
    "spotify_copy = spotify_copy.query('duration_min  < 4.2')"
   ]
  },
  {
   "cell_type": "code",
   "execution_count": null,
   "id": "28126d85",
   "metadata": {},
   "outputs": [],
   "source": [
    "spotify_copy"
   ]
  },
  {
   "cell_type": "code",
   "execution_count": null,
   "id": "03e9eb5d",
   "metadata": {},
   "outputs": [],
   "source": [
    "plt.figure(figsize=(15,10))\n",
    "sns.boxplot(spotify_copy, orient='h')"
   ]
  },
  {
   "cell_type": "markdown",
   "id": "5f15e4a2",
   "metadata": {},
   "source": [
    "## Observing the track genre for genres that might be considered  undanceable"
   ]
  },
  {
   "cell_type": "code",
   "execution_count": null,
   "id": "846edc73",
   "metadata": {},
   "outputs": [],
   "source": [
    "genres = spotify_copy.track_genre.values"
   ]
  },
  {
   "cell_type": "code",
   "execution_count": null,
   "id": "78b2c2a8",
   "metadata": {},
   "outputs": [],
   "source": [
    "genres_unique = set(genres.tolist())"
   ]
  },
  {
   "cell_type": "markdown",
   "id": "c6b69c4c",
   "metadata": {},
   "source": [
    "### Number of genres in our dataset"
   ]
  },
  {
   "cell_type": "code",
   "execution_count": null,
   "id": "908973e5",
   "metadata": {},
   "outputs": [],
   "source": [
    "len(genres_unique)"
   ]
  },
  {
   "cell_type": "markdown",
   "id": "b9a0af47",
   "metadata": {},
   "source": [
    "observing genre categories"
   ]
  },
  {
   "cell_type": "markdown",
   "id": "633ab310",
   "metadata": {},
   "source": [
    "from the above result genres like `kids, children, sleep and sad` contain noise (based on practical examination) and are not suitable to create an electritying mood. This genres will be dropped"
   ]
  },
  {
   "cell_type": "code",
   "execution_count": null,
   "id": "2c8a4011",
   "metadata": {},
   "outputs": [],
   "source": [
    "spotify_copy"
   ]
  },
  {
   "cell_type": "markdown",
   "id": "b99912c1",
   "metadata": {},
   "source": [
    "Observing from the tail artists like `Hillsong, Tenth avenue, Bryan & katie Torwait` were observed to be gospel artists. This led to further observation of their profile and they're found to be Gospel/Christain artists. We will look into the `world-music` genre and observe the artists profile."
   ]
  },
  {
   "cell_type": "code",
   "execution_count": null,
   "id": "9380eed3",
   "metadata": {},
   "outputs": [],
   "source": [
    "world_music = spotify_copy.query('track_genre == \"world-music\"')"
   ]
  },
  {
   "cell_type": "code",
   "execution_count": null,
   "id": "715f8dab",
   "metadata": {},
   "outputs": [],
   "source": [
    "print(set(world_music.artists.tolist()))"
   ]
  },
  {
   "cell_type": "markdown",
   "id": "77d1a25d",
   "metadata": {},
   "source": [
    "`world-music` is a broad and inclusive term used to describe a genre of music that encompasses a wide range of musical styles and traditions from around the world. It is not a specific genre but rather a category that serves as an umbrella term for music that originates from various cultures, regions, and traditions.  \n",
    "\n",
    "From the above list, There are more christain artists compared to the traditional and other cultural artists. Therefore, `world-music, kids, children, sleep and sad` genres will be dropped."
   ]
  },
  {
   "cell_type": "code",
   "execution_count": null,
   "id": "080d033e",
   "metadata": {},
   "outputs": [],
   "source": [
    "genres_to_drop = ['world-music', 'kids', 'children', 'sleep', 'sad']\n",
    "spotify_copy = spotify_copy[~spotify_copy['track_genre'].isin(genres_to_drop)]"
   ]
  },
  {
   "cell_type": "markdown",
   "id": "e846e937",
   "metadata": {},
   "source": [
    "## Dropping tracks based on liveness.\n",
    "\n",
    "This is due to the facts that live tracks tend to be performed at the discretion of the artists unlike how it is perfromed in a studio track. Live tracks are most suitable for its immediate audience so tracks live tracks will be dropped. i.e tracks with liveness above 0.8"
   ]
  },
  {
   "cell_type": "code",
   "execution_count": null,
   "id": "7ef16444",
   "metadata": {},
   "outputs": [],
   "source": [
    "live_tracks = spotify_copy.query('liveness >= 0.8')"
   ]
  },
  {
   "cell_type": "markdown",
   "id": "01d03307",
   "metadata": {},
   "source": [
    "#### **Drop non needed columns**"
   ]
  },
  {
   "cell_type": "code",
   "execution_count": null,
   "id": "fb49b101",
   "metadata": {},
   "outputs": [],
   "source": [
    "spotify_df = spotify_copy.drop(columns=['track_id',  'album_name', 'explicit', 'mode', 'key','key_names'], axis=1)"
   ]
  },
  {
   "cell_type": "markdown",
   "id": "c66aa623",
   "metadata": {},
   "source": [
    "### **Dimensionality reduction**"
   ]
  },
  {
   "cell_type": "markdown",
   "id": "8f477ce4",
   "metadata": {},
   "source": [
    "#### Reducing the dimensionality by mean"
   ]
  },
  {
   "cell_type": "code",
   "execution_count": null,
   "id": "ded08a0b",
   "metadata": {},
   "outputs": [],
   "source": [
    "spotify_df = spotify_df.query('instrumentalness < 0.11 & valence > 0.56 & tempo > 0.4 & energy > 0.67')"
   ]
  },
  {
   "cell_type": "code",
   "execution_count": null,
   "id": "41491192",
   "metadata": {},
   "outputs": [],
   "source": [
    "spotify_df.tempo.describe()"
   ]
  },
  {
   "cell_type": "code",
   "execution_count": null,
   "id": "3f4795c8",
   "metadata": {},
   "outputs": [],
   "source": [
    "spotify_df.energy.mean()"
   ]
  },
  {
   "cell_type": "code",
   "execution_count": null,
   "id": "83b03dec",
   "metadata": {},
   "outputs": [],
   "source": [
    "rap = spotify_df.query('speechiness >= 0.33 & speechiness <= 0.66')"
   ]
  },
  {
   "cell_type": "markdown",
   "id": "e205786b",
   "metadata": {},
   "source": [
    "From our data description, tracks that fall within the speechinees value of `0.33 and 0.66` can be regarded as rap songs."
   ]
  },
  {
   "cell_type": "code",
   "execution_count": null,
   "id": "88c5e233",
   "metadata": {},
   "outputs": [],
   "source": [
    "rap_tracks = spotify_df.query('speechiness >= 0.33 & speechiness <= 0.66')"
   ]
  },
  {
   "cell_type": "markdown",
   "id": "95692229",
   "metadata": {},
   "source": [
    "#### Observe columns by variance to understand which requires scaling"
   ]
  },
  {
   "cell_type": "code",
   "execution_count": null,
   "id": "bae83f5a",
   "metadata": {},
   "outputs": [],
   "source": [
    "spotify_df.var()"
   ]
  },
  {
   "cell_type": "code",
   "execution_count": null,
   "id": "c8129c47",
   "metadata": {},
   "outputs": [],
   "source": [
    "spotify_df.head(2)"
   ]
  },
  {
   "cell_type": "markdown",
   "id": "6639afd1",
   "metadata": {},
   "source": [
    "## Scaling columns\n",
    "\n",
    "The disparity in variance of `popularity, loudness, tempo, and duration_min` is unbalanced. We will now scale this values to put them on the same measurement. "
   ]
  },
  {
   "cell_type": "code",
   "execution_count": null,
   "id": "4dcfb89b",
   "metadata": {},
   "outputs": [],
   "source": [
    "from sklearn.preprocessing import MinMaxScaler\n",
    "\n",
    "columns_to_scale = ['popularity', 'tempo', 'loudness', 'duration_min']\n",
    "scaler = MinMaxScaler()\n",
    "\n",
    "# Apply Min-Max scaling to the selected columns and replace the original values\n",
    "spotify_df[columns_to_scale] = scaler.fit_transform(spotify_df[columns_to_scale])"
   ]
  },
  {
   "cell_type": "code",
   "execution_count": null,
   "id": "55865d9e",
   "metadata": {},
   "outputs": [],
   "source": [
    "spotify_df.shape"
   ]
  },
  {
   "cell_type": "code",
   "execution_count": null,
   "id": "b1702b31",
   "metadata": {},
   "outputs": [],
   "source": [
    "#rechecking the var scaled values\n",
    "spotify_df.var()"
   ]
  },
  {
   "cell_type": "markdown",
   "id": "e8801525",
   "metadata": {},
   "source": [
    "## Training and evaluating our RandomForestRegressor model"
   ]
  },
  {
   "cell_type": "code",
   "execution_count": null,
   "id": "3922d804",
   "metadata": {},
   "outputs": [],
   "source": [
    "from sklearn.ensemble import RandomForestRegressor\n",
    "from sklearn.model_selection import train_test_split\n",
    "from sklearn.metrics import mean_squared_error, r2_score\n",
    "\n",
    "# Load the dataset\n",
    "data = spotify_df\n",
    "\n",
    "# Features and target variable\n",
    "features = ['energy', 'valence', 'liveness', 'speechiness', 'tempo', 'acousticness']  \n",
    "target = 'danceability'  # Replace with your target variable\n",
    "\n",
    "# Split the data into training and testing sets\n",
    "X = data[features]\n",
    "y = data[target]\n",
    "X_train, X_test, y_train, y_test = train_test_split(X, y, test_size=0.2, random_state=42)\n",
    "\n",
    "# Create and train the Random Forest Regressor model\n",
    "random_forest_model = RandomForestRegressor(n_estimators=100, random_state=42)\n",
    "random_forest_model.fit(X_train, y_train)\n",
    "\n",
    "# Predict danceability scores\n",
    "y_pred = random_forest_model.predict(X_test)\n",
    "\n",
    "# Evaluating the model\n",
    "mse = mean_squared_error(y_test, y_pred)\n",
    "r2 = r2_score(y_test, y_pred)\n",
    "print(f\"Mean Squared Error (MSE): {mse}\")\n",
    "print(f\"R-squared (R2): {r2}\")"
   ]
  },
  {
   "cell_type": "markdown",
   "id": "5711cb27",
   "metadata": {},
   "source": [
    "Energy was selected because a relationship was obseved between energy and danceability while practicallly testing the songs (i.e if energy and danceability are above 0.56, the song gives danceable vibes.). Also valence was inicluded becuase it determines the how happy and lively t  "
   ]
  },
  {
   "cell_type": "markdown",
   "id": "8bf9b4e3",
   "metadata": {},
   "source": [
    "## Predict and recommend danceability using our model"
   ]
  },
  {
   "cell_type": "code",
   "execution_count": null,
   "id": "ec96977d",
   "metadata": {},
   "outputs": [],
   "source": [
    "# Predict danceability scores for all songs \n",
    "predicted_danceability = random_forest_model.predict(data[features])\n",
    "\n",
    "# Add the predicted danceability scores to the data\n",
    "data['predicted_danceability'] = predicted_danceability\n",
    "\n",
    "# Sort the dataset by predicted danceability in descending order\n",
    "recommended_songs = data.sort_values(by='predicted_danceability', ascending=False)\n",
    "\n",
    "# Select the top 50 recommended songs\n",
    "top_50_recommendations = recommended_songs.head(50)\n",
    "\n",
    "# Display the top 50 recommended songs\n",
    "print(\"Top 50 Recommended Songs based on Predicted Danceability:\")\n",
    "# print(top_50_recommendations[['track_name', 'artists', 'predicted_danceability']])\n",
    "recommended_songs.head(50)"
   ]
  },
  {
   "cell_type": "code",
   "execution_count": null,
   "id": "8c43094a",
   "metadata": {},
   "outputs": [],
   "source": [
    "plt.figure(figsize=(15,8))\n",
    "recommended_songs.track_genre.value_counts().plot()"
   ]
  },
  {
   "cell_type": "code",
   "execution_count": null,
   "id": "c4a699c2",
   "metadata": {},
   "outputs": [],
   "source": []
  },
  {
   "cell_type": "code",
   "execution_count": null,
   "id": "25a50602",
   "metadata": {},
   "outputs": [],
   "source": []
  },
  {
   "cell_type": "markdown",
   "id": "4a3e2804",
   "metadata": {},
   "source": [
    "The metrics i used to overall"
   ]
  },
  {
   "cell_type": "code",
   "execution_count": null,
   "id": "1189922d",
   "metadata": {},
   "outputs": [],
   "source": [
    "# # #valence is a factor for identifying happy and or cheerful songs \n",
    "# # #checking liveness\n",
    "\n",
    "# # # energy_dance = energy_dance[energy_dance['track_genre'] != 'world-music']\n",
    "# # #there are gospel musics in various categories like alternate, world-music, children, sad, emo, goth\n",
    "# # #From observation, liveness does not affect the danceability of the song \n",
    "\n",
    "# # #checking liveness\n",
    "# # #there are gospel musics in various categories like alternate, world-music\n",
    "# # #From observation, liveness does not affect the danceability of the song \n",
    "\n",
    "# # energy_dance[energy_dance['instrumentalness'] > 0.15].head(23)\n",
    "# # #songs with instrumentalness above average (0.15)tend to be slow despite having a high tempo and high danceability value\n",
    "# # #Although it doesn't show in the correlation matrix, instrumentalness is a cogent factor of fast and danceable music\n",
    "\n",
    "\n",
    "# # #observing valence: the closer the value is to 1, the more positive(cheerful, happy, euphoric) the song is.\n",
    "# energy_dance = Spotify[(Spotify['danceability'] > 0.56) & (Spotify['energy'] > 0.64)]\n",
    "\n",
    "# #Although it doesn't show in the correlation matrix, instrumentalness is a cogent factor of fast and danceable music\n",
    "\n",
    "\n",
    "\n",
    "#drop key and mode column\n",
    "\n",
    "#Speechiness\n",
    "#drop songs with low speechiness\n",
    "# average speechiness is rap\n",
    "\n",
    "\n",
    "#there is a negative correlation between acousticness and energy"
   ]
  },
  {
   "cell_type": "code",
   "execution_count": null,
   "id": "dd65782d",
   "metadata": {},
   "outputs": [],
   "source": []
  }
 ],
 "metadata": {
  "kernelspec": {
   "display_name": "Python 3 (ipykernel)",
   "language": "python",
   "name": "python3"
  },
  "language_info": {
   "codemirror_mode": {
    "name": "ipython",
    "version": 3
   },
   "file_extension": ".py",
   "mimetype": "text/x-python",
   "name": "python",
   "nbconvert_exporter": "python",
   "pygments_lexer": "ipython3",
   "version": "3.9.12"
  }
 },
 "nbformat": 4,
 "nbformat_minor": 5
}
